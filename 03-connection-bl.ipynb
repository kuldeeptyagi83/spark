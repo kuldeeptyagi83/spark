{
 "cells": [
  {
   "cell_type": "code",
   "execution_count": 0,
   "metadata": {
    "application/vnd.databricks.v1+cell": {
     "cellMetadata": {
      "byteLimit": 2048000,
      "rowLimit": 10000
     },
     "inputWidgets": {},
     "nuid": "cbb50e69-e29b-475d-9aae-226d20d97b2f",
     "showTitle": false,
     "tableResultSettingsMap": {},
     "title": ""
    }
   },
   "outputs": [],
   "source": [
    "clientid==dbutils.secrets.get(scope=\"databricksdl-scope\",key=\"databricks-clientid\")\n",
    "clientsecrets=dbutils.secrets.get(scope=\"databricksdl-scope\",key=\"databricksdl-client-secrets\")\n",
    "tenantid==dbutils.secrets.get(scope=\"databricksdl-scope\",key=\"databricks-tenantid\")\n",
    "\n",
    "spark.conf.set(\"fs.azure.account.auth.type.databricksdl.dfs.core.windows.net\", \"OAuth\")\n",
    "spark.conf.set(\"fs.azure.account.oauth.provider.type.databricksdl.dfs.core.windows.net\", \"org.apache.hadoop.fs.azurebfs.oauth2.ClientCredsTokenProvider\")\n",
    "spark.conf.set(\"fs.azure.account.oauth2.client.id.databricksdl.dfs.core.windows.net\", clientid)\n",
    "spark.conf.set(\"fs.azure.account.oauth2.client.secret.databricksdl.dfs.core.windows.net\", clientsecrets)\n",
    "spark.conf.set(\"fs.azure.account.oauth2.client.endpoint.databricksdl.dfs.core.windows.net\", f\"https://login.microsoftonline.com/{tenantid}/oauth2/token\")"
   ]
  },
  {
   "cell_type": "code",
   "execution_count": 0,
   "metadata": {
    "application/vnd.databricks.v1+cell": {
     "cellMetadata": {
      "byteLimit": 2048000,
      "rowLimit": 10000
     },
     "inputWidgets": {},
     "nuid": "5112f1f1-a7a4-4d20-ba07-29841009037f",
     "showTitle": false,
     "tableResultSettingsMap": {},
     "title": ""
    }
   },
   "outputs": [],
   "source": [
    "spark.read.load(\"abfss://demo@databricksdl.dfs.core.windows.net/\")\n",
    "\n",
    "dbutils.fs.ls(\"abfss://demo@databricksdl.dfs.core.windows.net/\")"
   ]
  }
 ],
 "metadata": {
  "application/vnd.databricks.v1+notebook": {
   "computePreferences": null,
   "dashboards": [],
   "environmentMetadata": {
    "base_environment": "",
    "environment_version": "3"
   },
   "inputWidgetPreferences": null,
   "language": "python",
   "notebookMetadata": {
    "pythonIndentUnit": 4
   },
   "notebookName": "03-connection-bl",
   "widgets": {}
  },
  "language_info": {
   "name": "python"
  }
 },
 "nbformat": 4,
 "nbformat_minor": 0
}
