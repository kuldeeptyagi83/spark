{
 "cells": [
  {
   "cell_type": "code",
   "execution_count": 0,
   "metadata": {
    "application/vnd.databricks.v1+cell": {
     "cellMetadata": {
      "byteLimit": 2048000,
      "rowLimit": 10000
     },
     "inputWidgets": {},
     "nuid": "3ab57eae-5498-4ec3-be6d-b96962974c73",
     "showTitle": false,
     "tableResultSettingsMap": {},
     "title": ""
    }
   },
   "outputs": [],
   "source": [
    "\n",
    "#Yellow Trip Read\n",
    "trip_input_df = spark.read.format(\"csv\").option(\"header\", True).load(\"/databricks-datasets/nyctaxi/tripdata/yellow/yellow_tripdata_2019-01.csv.gz\")\n",
    "\n",
    "display(trip_input_df)  # build it magic function in Databrciks\n",
    "# trip_input_df.show() # python dataframe command"
   ]
  },
  {
   "cell_type": "code",
   "execution_count": 0,
   "metadata": {
    "application/vnd.databricks.v1+cell": {
     "cellMetadata": {
      "byteLimit": 2048000,
      "rowLimit": 10000
     },
     "inputWidgets": {},
     "nuid": "c43aad3b-b6b2-4bdf-ae00-3f054403b3a3",
     "showTitle": false,
     "tableResultSettingsMap": {},
     "title": ""
    }
   },
   "outputs": [],
   "source": [
    "temp_df=trip_input_df.withColumnRenamed(\"store_and_fwd_flag\",\"store_forward_flag\")\n",
    "display(temp_df)"
   ]
  },
  {
   "cell_type": "code",
   "execution_count": 0,
   "metadata": {
    "application/vnd.databricks.v1+cell": {
     "cellMetadata": {
      "byteLimit": 2048000,
      "rowLimit": 10000
     },
     "inputWidgets": {},
     "nuid": "2f0bc51b-eb2d-4022-9cd3-29a3644b0e97",
     "showTitle": false,
     "tableResultSettingsMap": {
      "0": {
       "dataGridStateBlob": "{\"version\":1,\"tableState\":{\"columnPinning\":{\"left\":[\"#row_number#\"],\"right\":[]},\"columnSizing\":{\"dropoff_datetime\":300},\"columnVisibility\":{}},\"settings\":{\"columns\":{}},\"syncTimestamp\":1756276297936}",
       "filterBlob": null,
       "queryPlanFiltersBlob": null,
       "tableResultIndex": 0
      }
     },
     "title": ""
    }
   },
   "outputs": [],
   "source": [
    "from pyspark.sql.functions import col , substring,to_date, regexp_replace, expr , to_timestamp\n",
    "# temp_df=trip_input_df \\\n",
    "# .withColumn(\"year_month\" , regexp_replace(substring(col(\"tpep_pickup_datetime\"),0,7) , \"-\" , \"_\"))\n",
    "\n",
    "# or wrap in parenthesis\n",
    "trip_df=(trip_input_df\n",
    ".withColumn(\"year_month\" , regexp_replace(substring(col(\"tpep_pickup_datetime\"),0,7) , \"-\" , \"_\"))\n",
    ".withColumn(\"pickup_datetime\" , to_date(col(\"tpep_pickup_datetime\"))) #  only extracts the date part (year, month, day) from a timestamp or string, and discards the time components (hour, minute, second, and millisecond) + chnage column's type from string to date\n",
    ".withColumn(\"dropoff_datetime\" , to_timestamp(col(\"tpep_dropoff_datetime\"),\"yyyy-MM-dd HH:mm:ss\")) \n",
    ".withColumn(\"pickup_hour\" , substring(trip_input_df[\"tpep_pickup_datetime\"], 1, 2)) # another way to access column\n",
    ".withColumn(\n",
    "    \"trip_pct\",\n",
    "    expr(\"try_divide(cast(tip_amount as float), cast(total_amount as float))\")\n",
    "  )\n",
    ".limit(1000))\n",
    "\n",
    "\n",
    "display(trip_df\t)"
   ]
  },
  {
   "cell_type": "code",
   "execution_count": 0,
   "metadata": {
    "application/vnd.databricks.v1+cell": {
     "cellMetadata": {
      "byteLimit": 2048000,
      "rowLimit": 10000
     },
     "inputWidgets": {},
     "nuid": "94819679-a789-4065-9d69-363f6e804ec6",
     "showTitle": false,
     "tableResultSettingsMap": {},
     "title": ""
    }
   },
   "outputs": [],
   "source": [
    "#Zone_read\n",
    "zone_df=spark.read.format(\"csv\").option(\"header\", True).load(\"/databricks-datasets/nyctaxi/taxizone/taxi_zone_lookup.csv\")\n",
    "display(zone_df)"
   ]
  },
  {
   "cell_type": "code",
   "execution_count": 0,
   "metadata": {
    "application/vnd.databricks.v1+cell": {
     "cellMetadata": {
      "byteLimit": 2048000,
      "rowLimit": 10000
     },
     "inputWidgets": {},
     "nuid": "5cfcd9b4-1089-46d7-ae3d-81ecfc4bdcb7",
     "showTitle": false,
     "tableResultSettingsMap": {},
     "title": ""
    }
   },
   "outputs": [],
   "source": [
    "full_df=trip_df.join(zone_df,trip_df.PULocationID==zone_df.LocationID,\"left\").drop(\"LocationID\")\n",
    "display(full_df)"
   ]
  },
  {
   "cell_type": "code",
   "execution_count": 0,
   "metadata": {
    "application/vnd.databricks.v1+cell": {
     "cellMetadata": {
      "byteLimit": 2048000,
      "rowLimit": 10000
     },
     "inputWidgets": {},
     "nuid": "fd994aca-32f6-4b5d-88d5-4b4d356248bd",
     "showTitle": false,
     "tableResultSettingsMap": {},
     "title": ""
    }
   },
   "outputs": [],
   "source": [
    "# Did not work\n",
    "full_df.write.mode(\"overwrite\").format(\"delta\").save(\"dbfs:/tmp/datasets/datakickstart/tables/nyctaxi\")"
   ]
  },
  {
   "cell_type": "code",
   "execution_count": 0,
   "metadata": {
    "application/vnd.databricks.v1+cell": {
     "cellMetadata": {
      "byteLimit": 2048000,
      "rowLimit": 10000
     },
     "inputWidgets": {},
     "nuid": "d5f3e69d-9d6e-4f03-8cf1-cac4083d96c0",
     "showTitle": false,
     "tableResultSettingsMap": {},
     "title": ""
    }
   },
   "outputs": [],
   "source": [
    "full_df.write.mode(\"overwrite\").saveAsTable(\"nyctaxi_sample\")  # saves data in default schema"
   ]
  },
  {
   "cell_type": "code",
   "execution_count": 0,
   "metadata": {
    "application/vnd.databricks.v1+cell": {
     "cellMetadata": {
      "byteLimit": 2048000,
      "rowLimit": 10000
     },
     "inputWidgets": {},
     "nuid": "28d5db45-bdb6-4e59-b800-a49be2496328",
     "showTitle": false,
     "tableResultSettingsMap": {},
     "title": ""
    }
   },
   "outputs": [],
   "source": [
    "# new_df=spark.sql(\"select * from nyctaxi_sample\")\n",
    "# OR \n",
    "new_df=spark.table(\"nyctaxi_sample\")\n",
    "display(new_df)"
   ]
  },
  {
   "cell_type": "code",
   "execution_count": 0,
   "metadata": {
    "application/vnd.databricks.v1+cell": {
     "cellMetadata": {},
     "inputWidgets": {},
     "nuid": "e06928ba-3687-4313-84e7-51c885c0573a",
     "showTitle": false,
     "tableResultSettingsMap": {},
     "title": ""
    }
   },
   "outputs": [],
   "source": []
  },
  {
   "cell_type": "code",
   "execution_count": 0,
   "metadata": {
    "application/vnd.databricks.v1+cell": {
     "cellMetadata": {
      "byteLimit": 2048000,
      "rowLimit": 10000
     },
     "inputWidgets": {},
     "nuid": "909b5424-1446-4271-802a-e0b47e52820c",
     "showTitle": false,
     "tableResultSettingsMap": {},
     "title": ""
    }
   },
   "outputs": [],
   "source": [
    "# see lis of default mounts\n",
    "dbutils.fs.help()\n"
   ]
  },
  {
   "cell_type": "code",
   "execution_count": 0,
   "metadata": {
    "application/vnd.databricks.v1+cell": {
     "cellMetadata": {},
     "inputWidgets": {},
     "nuid": "91c0d854-e15f-4cde-9040-a697c1edfd58",
     "showTitle": false,
     "tableResultSettingsMap": {},
     "title": ""
    }
   },
   "outputs": [],
   "source": []
  },
  {
   "cell_type": "code",
   "execution_count": 0,
   "metadata": {
    "application/vnd.databricks.v1+cell": {
     "cellMetadata": {
      "byteLimit": 2048000,
      "rowLimit": 10000
     },
     "inputWidgets": {},
     "nuid": "927a2ee1-1659-4fdd-a6d4-a7ba06220459",
     "showTitle": false,
     "tableResultSettingsMap": {},
     "title": ""
    }
   },
   "outputs": [],
   "source": [
    "# See list of files in databricks-datasets\n",
    "display(dbutils.fs.ls(\"dbfs:/databricks-datasets/\"))\n"
   ]
  },
  {
   "cell_type": "code",
   "execution_count": 0,
   "metadata": {
    "application/vnd.databricks.v1+cell": {
     "cellMetadata": {
      "byteLimit": 2048000,
      "rowLimit": 10000
     },
     "inputWidgets": {},
     "nuid": "0cf2fce8-493d-4cb5-911e-e568f91e68a4",
     "showTitle": false,
     "tableResultSettingsMap": {
      "0": {
       "dataGridStateBlob": "{\"version\":1,\"tableState\":{\"columnPinning\":{\"left\":[\"#row_number#\"],\"right\":[]},\"columnSizing\":{\"path\":252,\"name\":262},\"columnVisibility\":{}},\"settings\":{\"columns\":{}},\"syncTimestamp\":1756280556505}",
       "filterBlob": null,
       "queryPlanFiltersBlob": null,
       "tableResultIndex": 0
      }
     },
     "title": ""
    }
   },
   "outputs": [],
   "source": [
    "# See list of files in root\n",
    "display(dbutils.fs.ls(\"dbfs:/\"))"
   ]
  },
  {
   "cell_type": "code",
   "execution_count": 0,
   "metadata": {
    "application/vnd.databricks.v1+cell": {
     "cellMetadata": {
      "byteLimit": 2048000,
      "rowLimit": 10000
     },
     "inputWidgets": {},
     "nuid": "e5c180c7-9880-4dff-bf42-726d789b2853",
     "showTitle": false,
     "tableResultSettingsMap": {},
     "title": ""
    }
   },
   "outputs": [],
   "source": [
    "# Did not work\n",
    "display(dbutils.fs.ls(\"dbfs:/Volumes/\"))"
   ]
  }
 ],
 "metadata": {
  "application/vnd.databricks.v1+notebook": {
   "computePreferences": null,
   "dashboards": [],
   "environmentMetadata": {
    "base_environment": "",
    "environment_version": "3"
   },
   "inputWidgetPreferences": null,
   "language": "python",
   "notebookMetadata": {
    "pythonIndentUnit": 4
   },
   "notebookName": "01-spark-basic",
   "widgets": {}
  },
  "language_info": {
   "name": "python"
  }
 },
 "nbformat": 4,
 "nbformat_minor": 0
}
