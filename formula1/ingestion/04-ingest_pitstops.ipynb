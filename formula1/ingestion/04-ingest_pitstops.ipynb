{
 "cells": [
  {
   "cell_type": "code",
   "execution_count": 0,
   "metadata": {
    "application/vnd.databricks.v1+cell": {
     "cellMetadata": {
      "byteLimit": 2048000,
      "rowLimit": 10000
     },
     "inputWidgets": {},
     "nuid": "f88d5ce4-071b-4d03-8b63-48f3490ac656",
     "showTitle": false,
     "tableResultSettingsMap": {},
     "title": ""
    }
   },
   "outputs": [],
   "source": [
    "%load_ext autoreload\n",
    "%autoreload 2\n",
    "# Enables autoreload; learn more at https://docs.databricks.com/en/files/workspace-modules.html#autoreload-for-python-modules\n",
    "# To disable autoreload; run %autoreload 0"
   ]
  },
  {
   "cell_type": "code",
   "execution_count": 0,
   "metadata": {
    "application/vnd.databricks.v1+cell": {
     "cellMetadata": {
      "byteLimit": 2048000,
      "rowLimit": 10000
     },
     "inputWidgets": {},
     "nuid": "60dbbb7d-d4c2-4675-88ab-3296ea0d8847",
     "showTitle": false,
     "tableResultSettingsMap": {},
     "title": ""
    }
   },
   "outputs": [],
   "source": [
    "%run \"../../config/config\"\n"
   ]
  },
  {
   "cell_type": "code",
   "execution_count": 0,
   "metadata": {
    "application/vnd.databricks.v1+cell": {
     "cellMetadata": {
      "byteLimit": 2048000,
      "rowLimit": 10000
     },
     "inputWidgets": {},
     "nuid": "cac4bbd4-5a01-413d-81c6-0a3477c879c3",
     "showTitle": false,
     "tableResultSettingsMap": {},
     "title": ""
    }
   },
   "outputs": [],
   "source": [
    "\n",
    "# import or use variable/function from other notebook and python  file\n",
    "# Note: - magic commands hsould be at the top of the file and shoud be only content in that cell\n",
    "raw_folder_location"
   ]
  },
  {
   "cell_type": "code",
   "execution_count": 0,
   "metadata": {
    "application/vnd.databricks.v1+cell": {
     "cellMetadata": {
      "byteLimit": 2048000,
      "rowLimit": 10000
     },
     "inputWidgets": {},
     "nuid": "ee0e5560-aec4-4488-b021-b5d9c376a6ef",
     "showTitle": false,
     "tableResultSettingsMap": {},
     "title": ""
    }
   },
   "outputs": [],
   "source": [
    "# %run cannot be used to import a .py file into a notebook. \n",
    "# For Python files, use import (after making sure the file is in the workspace or sys.path)\n",
    "# from utils.utils import *\n",
    "import sys , os\n",
    "# sys.path.append(\"../../utils\")\n",
    "print(os.getcwd())\n",
    "from utils.utils import *\n",
    "\n",
    "print(callable(add_ingestion_date)) "
   ]
  },
  {
   "cell_type": "code",
   "execution_count": 0,
   "metadata": {
    "application/vnd.databricks.v1+cell": {
     "cellMetadata": {
      "byteLimit": 2048000,
      "rowLimit": 10000
     },
     "inputWidgets": {},
     "nuid": "229bb6ad-e833-446e-864d-a0246dddbbcd",
     "showTitle": false,
     "tableResultSettingsMap": {},
     "title": ""
    }
   },
   "outputs": [],
   "source": [
    "from pyspark.sql.types import StructType, StructField, IntegerType, StringType, DoubleType\n",
    "\n",
    "schema = StructType([\n",
    "    StructField(\"raceId\", IntegerType(), True),\n",
    "    StructField(\"driverId\", IntegerType(), True),\n",
    "    StructField(\"stop\", IntegerType(), True),\n",
    "    StructField(\"lap\", IntegerType(), True),\n",
    "    StructField(\"time\", StringType(), True),\n",
    "    StructField(\"duration\", DoubleType(), True),\n",
    "    StructField(\"milliseconds\", IntegerType(), True)\n",
    "])\n",
    "# need to do multiline true otherwise dat displayes is null for multiline json\n",
    "df = spark.read.schema(schema).option(\"multiline\", \"true\").json(\"abfss://raw@databdls.dfs.core.windows.net/pit_stops.json\")\n",
    "display(df.show(5, truncate=False))  # Shows full content of each column"
   ]
  },
  {
   "cell_type": "code",
   "execution_count": 0,
   "metadata": {
    "application/vnd.databricks.v1+cell": {
     "cellMetadata": {
      "byteLimit": 2048000,
      "rowLimit": 10000
     },
     "inputWidgets": {},
     "nuid": "f865d8f9-bced-46a3-b819-7f2148bdf175",
     "showTitle": false,
     "tableResultSettingsMap": {},
     "title": ""
    }
   },
   "outputs": [],
   "source": [
    "# dbutils.widgets.remove(\"p_data_source\")\n",
    "dbutils.widgets.text(\"p_data_source\", \"default_ingestion_date\", \"Label for date\")\n",
    "v_data_source = dbutils.widgets.get(\"p_data_source\")\n",
    "print(\"Input parameter value : -\", v_data_source)"
   ]
  },
  {
   "cell_type": "code",
   "execution_count": 0,
   "metadata": {
    "application/vnd.databricks.v1+cell": {
     "cellMetadata": {
      "byteLimit": 2048000,
      "rowLimit": 10000
     },
     "inputWidgets": {},
     "nuid": "982d401b-dc77-45e5-b913-6dc8e69d1fdb",
     "showTitle": false,
     "tableResultSettingsMap": {},
     "title": ""
    }
   },
   "outputs": [],
   "source": [
    "from pyspark.sql.functions import current_date\n",
    "\n",
    "# Add ingestion date column\n",
    "df_with_ingestion = add_ingestion_date(df,v_data_source)\n",
    "# Add ingestion date column\n",
    "# Save to Parquet file\n",
    "df_with_ingestion.write.mode(\"overwrite\").parquet(\"abfss://processed@databdls.dfs.core.windows.net/pit_stops_parquet\")\n",
    "\n",
    "# Read from Parquet file\n",
    "df_parquet = spark.read.parquet(\"abfss://processed@databdls.dfs.core.windows.net/pit_stops_parquet\")\n",
    "display(df_parquet.show(5, truncate=False))"
   ]
  },
  {
   "cell_type": "code",
   "execution_count": 0,
   "metadata": {
    "application/vnd.databricks.v1+cell": {
     "cellMetadata": {
      "byteLimit": 2048000,
      "rowLimit": 10000
     },
     "inputWidgets": {},
     "nuid": "8f72eccb-fd00-44d7-9bd3-3456776cfcc1",
     "showTitle": false,
     "tableResultSettingsMap": {},
     "title": ""
    }
   },
   "outputs": [],
   "source": [
    "dbutils.notebook.help()"
   ]
  },
  {
   "cell_type": "code",
   "execution_count": 0,
   "metadata": {
    "application/vnd.databricks.v1+cell": {
     "cellMetadata": {
      "byteLimit": 2048000,
      "rowLimit": 10000
     },
     "inputWidgets": {},
     "nuid": "61540b30-8fd9-439e-8292-ab5b3cf701e8",
     "showTitle": false,
     "tableResultSettingsMap": {},
     "title": ""
    }
   },
   "outputs": [],
   "source": [
    "dbutils.notebook.exit(\n",
    "    f\"Success - {dbutils.notebook.entry_point.getDbutils().notebook().getContext().notebookPath().get()}\"\n",
    ")\n"
   ]
  }
 ],
 "metadata": {
  "application/vnd.databricks.v1+notebook": {
   "computePreferences": null,
   "dashboards": [],
   "environmentMetadata": {
    "base_environment": "",
    "environment_version": "3"
   },
   "inputWidgetPreferences": null,
   "language": "python",
   "notebookMetadata": {
    "pythonIndentUnit": 4
   },
   "notebookName": "04-ingest_pitstops",
   "widgets": {
    "p_data_source": {
     "currentValue": "default_ingestion_date",
     "nuid": "322db980-36c5-4fee-9bea-ddad1dd01781",
     "typedWidgetInfo": {
      "autoCreated": false,
      "defaultValue": "default_ingestion_date",
      "label": "Label for date",
      "name": "p_data_source",
      "options": {
       "widgetDisplayType": "Text",
       "validationRegex": null
      },
      "parameterDataType": "String"
     },
     "widgetInfo": {
      "widgetType": "text",
      "defaultValue": "default_ingestion_date",
      "label": "Label for date",
      "name": "p_data_source",
      "options": {
       "widgetType": "text",
       "autoCreated": false,
       "validationRegex": null
      }
     }
    },
    "p_data_source1": {
     "currentValue": "",
     "nuid": "3675425f-aa54-424d-b62f-33862a5328e7",
     "typedWidgetInfo": {
      "autoCreated": false,
      "defaultValue": "default_ingestion_date",
      "label": "Label for date",
      "name": "p_data_source1",
      "options": {
       "widgetDisplayType": "Text",
       "validationRegex": null
      },
      "parameterDataType": "String"
     },
     "widgetInfo": {
      "widgetType": "text",
      "defaultValue": "default_ingestion_date",
      "label": "Label for date",
      "name": "p_data_source1",
      "options": {
       "widgetType": "text",
       "autoCreated": false,
       "validationRegex": null
      }
     }
    }
   }
  },
  "language_info": {
   "name": "python"
  }
 },
 "nbformat": 4,
 "nbformat_minor": 0
}
