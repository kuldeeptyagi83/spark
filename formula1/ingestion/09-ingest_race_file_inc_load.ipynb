{
 "cells": [
  {
   "cell_type": "code",
   "execution_count": 0,
   "metadata": {
    "application/vnd.databricks.v1+cell": {
     "cellMetadata": {
      "byteLimit": 2048000,
      "rowLimit": 10000
     },
     "inputWidgets": {},
     "nuid": "3dd8c65f-bd5c-48ca-bbe9-a3b8fb0e8b2f",
     "showTitle": false,
     "tableResultSettingsMap": {},
     "title": ""
    }
   },
   "outputs": [],
   "source": [
    "%run \"../../config/config\""
   ]
  },
  {
   "cell_type": "code",
   "execution_count": 0,
   "metadata": {
    "application/vnd.databricks.v1+cell": {
     "cellMetadata": {
      "byteLimit": 2048000,
      "rowLimit": 10000
     },
     "inputWidgets": {},
     "nuid": "1c267c61-dfa8-4479-8f06-70f9fd74ba4a",
     "showTitle": false,
     "tableResultSettingsMap": {},
     "title": ""
    }
   },
   "outputs": [],
   "source": [
    "dbutils.widgets.text(\"p_file_date\", \"\")\n",
    "v_file_date = dbutils.widgets.get(\"p_file_date\")\n",
    "dbutils.widgets.text(\"p_data_source\", \"\")\n",
    "v_data_source = dbutils.widgets.get(\"p_data_source\")\n",
    "\n",
    "print(v_file_date)\n",
    "print(v_data_source)"
   ]
  },
  {
   "cell_type": "code",
   "execution_count": 0,
   "metadata": {
    "application/vnd.databricks.v1+cell": {
     "cellMetadata": {
      "byteLimit": 2048000,
      "rowLimit": 10000
     },
     "inputWidgets": {},
     "nuid": "c0a73492-1ecd-409b-84c3-dba0a6cb649d",
     "showTitle": false,
     "tableResultSettingsMap": {},
     "title": ""
    }
   },
   "outputs": [],
   "source": [
    "spark.read.json(f\"{raw_folder_path}/{v_file_date}/results.json\").createOrReplaceTempView(\"results_race\")"
   ]
  },
  {
   "cell_type": "code",
   "execution_count": 0,
   "metadata": {
    "application/vnd.databricks.v1+cell": {
     "cellMetadata": {
      "byteLimit": 2048000,
      "implicitDf": true,
      "rowLimit": 10000
     },
     "inputWidgets": {},
     "nuid": "4cbaebf4-5a02-4e63-a1d4-af352ec6529f",
     "showTitle": false,
     "tableResultSettingsMap": {},
     "title": ""
    }
   },
   "outputs": [],
   "source": [
    "%sql\n",
    "select raceid, count(1) from results_race group by raceid order by raceid desc limit 5"
   ]
  },
  {
   "cell_type": "code",
   "execution_count": 0,
   "metadata": {
    "application/vnd.databricks.v1+cell": {
     "cellMetadata": {
      "byteLimit": 2048000,
      "rowLimit": 10000
     },
     "inputWidgets": {},
     "nuid": "da54ac7b-5203-49c7-93ff-0e99f23dd18a",
     "showTitle": false,
     "tableResultSettingsMap": {},
     "title": ""
    }
   },
   "outputs": [],
   "source": [
    "# v_file_date=\"2021-03-28\"\n",
    "spark.read.json(f\"{raw_folder_path}/2021-03-28/results.json\").createOrReplaceTempView(\"results_race_w2\")\n",
    "display(spark.sql(\"select raceid, count(1) from results_race_w2 group by raceid order by raceid desc limit 5\"))"
   ]
  },
  {
   "cell_type": "code",
   "execution_count": 0,
   "metadata": {
    "application/vnd.databricks.v1+cell": {
     "cellMetadata": {
      "byteLimit": 2048000,
      "rowLimit": 10000
     },
     "inputWidgets": {},
     "nuid": "555e0f10-f58f-4d46-82b3-8d6663deaa33",
     "showTitle": false,
     "tableResultSettingsMap": {},
     "title": ""
    }
   },
   "outputs": [],
   "source": [
    "# v_file_date=\"2021-04-18\"\n",
    "spark.read.json(f\"{raw_folder_path}/2021-04-18/results.json\").createOrReplaceTempView(\"results_race_w3\")\n",
    "display(spark.sql(\"select raceid, count(1) from results_race_w3 group by raceid order by raceid desc limit 5\"))"
   ]
  },
  {
   "cell_type": "code",
   "execution_count": 0,
   "metadata": {
    "application/vnd.databricks.v1+cell": {
     "cellMetadata": {
      "byteLimit": 2048000,
      "rowLimit": 10000
     },
     "inputWidgets": {},
     "nuid": "a333e478-b595-42a7-8fc0-3376f336cbb6",
     "showTitle": false,
     "tableResultSettingsMap": {},
     "title": ""
    }
   },
   "outputs": [],
   "source": [
    "spark.sql(\"USE CATALOG dev_silver_formula1_catalog\")\n",
    "spark.sql(\"USE SCHEMA processed_formula1_schema\")\n",
    "\n",
    "# OR \n",
    "# spark.sql(\"USE dev_silver_formula1_catalog.processed_formula1_schema\")\n",
    "\n"
   ]
  },
  {
   "cell_type": "code",
   "execution_count": 0,
   "metadata": {
    "application/vnd.databricks.v1+cell": {
     "cellMetadata": {
      "byteLimit": 2048000,
      "implicitDf": true,
      "rowLimit": 10000
     },
     "inputWidgets": {},
     "nuid": "7b8bf968-f187-469c-b51a-d43a1ee92755",
     "showTitle": false,
     "tableResultSettingsMap": {
      "0": {
       "dataGridStateBlob": "{\"version\":1,\"tableState\":{\"columnPinning\":{\"left\":[\"#row_number#\"],\"right\":[]},\"columnSizing\":{\"current_schema()1\":295,\"current_schema()\":255},\"columnVisibility\":{}},\"settings\":{\"columns\":{}},\"syncTimestamp\":1758691963619}",
       "filterBlob": null,
       "queryPlanFiltersBlob": null,
       "tableResultIndex": 0
      }
     },
     "title": ""
    }
   },
   "outputs": [],
   "source": [
    "display(spark.sql(\"select current_catalog() , current_schema() , current_database()\"))"
   ]
  },
  {
   "cell_type": "code",
   "execution_count": 0,
   "metadata": {
    "application/vnd.databricks.v1+cell": {
     "cellMetadata": {
      "byteLimit": 2048000,
      "rowLimit": 10000
     },
     "inputWidgets": {},
     "nuid": "8399040d-d8da-458e-8d12-3efd2e91db78",
     "showTitle": false,
     "tableResultSettingsMap": {},
     "title": ""
    }
   },
   "outputs": [],
   "source": [
    "from pyspark.sql.types import StructType, StructField, IntegerType, StringType, DoubleType\n",
    "\n",
    "results_schema = StructType([\n",
    "    StructField(\"resultId\", IntegerType(), True),\n",
    "    StructField(\"raceId\", IntegerType(), True),\n",
    "    StructField(\"driverId\", IntegerType(), True),\n",
    "    StructField(\"constructorId\", IntegerType(), True),\n",
    "    StructField(\"number\", IntegerType(), True),\n",
    "    StructField(\"grid\", IntegerType(), True),\n",
    "    StructField(\"position\", IntegerType(), True),\n",
    "    StructField(\"positionText\", StringType(), True),\n",
    "    StructField(\"positionOrder\", IntegerType(), True),\n",
    "    StructField(\"points\", IntegerType(), True),\n",
    "    StructField(\"laps\", IntegerType(), True),\n",
    "    StructField(\"time\", StringType(), True),\n",
    "    StructField(\"milliseconds\", IntegerType(), True),\n",
    "    StructField(\"fastestLap\", IntegerType(), True),\n",
    "    StructField(\"rank\", IntegerType(), True),\n",
    "    StructField(\"fastestLapTime\", StringType(), True),\n",
    "    StructField(\"fastestLapSpeed\", DoubleType(), True),\n",
    "    StructField(\"statusId\", IntegerType(), True)\n",
    "])"
   ]
  },
  {
   "cell_type": "code",
   "execution_count": 0,
   "metadata": {
    "application/vnd.databricks.v1+cell": {
     "cellMetadata": {
      "byteLimit": 2048000,
      "rowLimit": 10000
     },
     "inputWidgets": {},
     "nuid": "5234c6ee-e209-409b-ae73-db7017ff735a",
     "showTitle": false,
     "tableResultSettingsMap": {},
     "title": ""
    }
   },
   "outputs": [],
   "source": [
    "from pyspark.sql.functions import col\n",
    "from delta.tables import DeltaTable\n",
    "df = spark.read.json(f\"{raw_folder_path}/{v_file_date}/results.json\", schema=results_schema)\n",
    "df.write.mode(\"overwrite\").partitionBy(\"raceId\").format(\"delta\").saveAsTable(\"f1_processed_race\")\n",
    "\n",
    "# Create the table if it does not exist. Otherwise, replace the existing table.\n",
    "# df.writeTo(\"f1_processed_race\").createOrReplace()\n",
    "\n",
    "# Load target as DeltaTable if table already exist\n",
    "delta_target = DeltaTable.forName(spark, \"f1_processed_race\")\n",
    "\n",
    "# Read source as DataFrame and deduplicate\n",
    "source_df =  (\n",
    "    df.dropDuplicates([\"raceid\"])\n",
    ")\n",
    "\n",
    "# for debugging\n",
    "target_df = spark.table(\"f1_processed_race\")\n",
    "\n",
    "# Find records in source that match by raceid\n",
    "matched_df = source_df.join(target_df, on=\"raceid\", how=\"inner\")\n",
    "\n",
    "# Find new records (not matched by raceid)\n",
    "not_matched_df = source_df.join(target_df, on=\"raceid\", how=\"left_anti\")\n",
    "\n",
    "num_matched = matched_df.count()\n",
    "num_not_matched = not_matched_df.count()\n",
    "\n",
    "display(f\"Matched records (updates) : {num_matched}\")\n",
    "display(f\"Unmatched records (inserts) : {num_not_matched}\")\n",
    "\n",
    "# Perform the merge directly in Python\n",
    "delta_target.alias(\"tgt\") \\\n",
    "  .merge(\n",
    "    source_df.alias(\"src\"),\n",
    "    \"tgt.raceid = src.raceid\"\n",
    "  ) \\\n",
    "  .whenMatchedUpdateAll() \\\n",
    "  .whenNotMatchedInsertAll() \\\n",
    "  .execute()"
   ]
  },
  {
   "cell_type": "code",
   "execution_count": 0,
   "metadata": {
    "application/vnd.databricks.v1+cell": {
     "cellMetadata": {
      "byteLimit": 2048000,
      "implicitDf": true,
      "rowLimit": 10000
     },
     "inputWidgets": {},
     "nuid": "522ea840-2322-4c67-9fe1-dfd868204e42",
     "showTitle": false,
     "tableResultSettingsMap": {},
     "title": ""
    }
   },
   "outputs": [],
   "source": [
    "%sql\n",
    "-- DROP TABLE dev_silver_formula1_catalog.processed_formula1_schema.f1_processed_race;\n",
    " "
   ]
  },
  {
   "cell_type": "code",
   "execution_count": 0,
   "metadata": {
    "application/vnd.databricks.v1+cell": {
     "cellMetadata": {
      "byteLimit": 2048000,
      "rowLimit": 10000
     },
     "inputWidgets": {},
     "nuid": "db59a309-5990-445b-9163-28b53bb30006",
     "showTitle": false,
     "tableResultSettingsMap": {},
     "title": ""
    }
   },
   "outputs": [],
   "source": [
    "display(spark.sql(\"select raceid, count(1) from f1_processed_race group by raceid order by raceid desc limit 110\"))"
   ]
  },
  {
   "cell_type": "markdown",
   "metadata": {
    "application/vnd.databricks.v1+cell": {
     "cellMetadata": {
      "byteLimit": 2048000,
      "rowLimit": 10000
     },
     "inputWidgets": {},
     "nuid": "93536b48-8f83-462b-90b3-19ec2b613789",
     "showTitle": false,
     "tableResultSettingsMap": {},
     "title": ""
    }
   },
   "source": [
    "# **incremental load for parquet file**"
   ]
  },
  {
   "cell_type": "code",
   "execution_count": 0,
   "metadata": {
    "application/vnd.databricks.v1+cell": {
     "cellMetadata": {
      "byteLimit": 2048000,
      "rowLimit": 10000
     },
     "inputWidgets": {},
     "nuid": "34975403-d959-46ce-99f3-0095877c40ee",
     "showTitle": false,
     "tableResultSettingsMap": {},
     "title": ""
    }
   },
   "outputs": [],
   "source": [
    "# Spark by default overwrites the entire table, not just the partitions present in the DataFrame.\n",
    "# If you only want to overwrite some partitions dynamically (for incoming data frame), then you must set:\n",
    "spark.conf.set(\"spark.sql.sources.partitionOverwriteMode\", \"dynamic\")\n",
    "\n",
    "# Save parquet file to path /processed partitioned by raceId\n",
    "# Write to a subdirectory to avoid overlap with Unity Catalog managed storage otherwise erro is raised\n",
    "output_path = f\"{processed_folder_path}/raw_output\"\n",
    "df.write.format(\"parquet\").mode(\"overwrite\").partitionBy(\"raceId\").save(output_path)"
   ]
  },
  {
   "cell_type": "code",
   "execution_count": 0,
   "metadata": {
    "application/vnd.databricks.v1+cell": {
     "cellMetadata": {
      "byteLimit": 2048000,
      "rowLimit": 10000
     },
     "inputWidgets": {},
     "nuid": "9f7e22ea-844f-4ba6-a4b9-f55c5f694ddf",
     "showTitle": false,
     "tableResultSettingsMap": {},
     "title": ""
    }
   },
   "outputs": [],
   "source": [
    "display(\n",
    "    spark.read.parquet(output_path)\n",
    "    .groupBy(\"raceId\")\n",
    "    .count()\n",
    "    .orderBy(col(\"raceId\").desc())\n",
    ")"
   ]
  },
  {
   "cell_type": "code",
   "execution_count": 0,
   "metadata": {
    "application/vnd.databricks.v1+cell": {
     "cellMetadata": {
      "byteLimit": 2048000,
      "implicitDf": true,
      "rowLimit": 10000
     },
     "inputWidgets": {},
     "nuid": "101d808b-9229-49f4-ab3b-cbceec4d69ad",
     "showTitle": false,
     "tableResultSettingsMap": {},
     "title": ""
    }
   },
   "outputs": [],
   "source": [
    " %sql\n",
    " describe extended f1_processed_race"
   ]
  }
 ],
 "metadata": {
  "application/vnd.databricks.v1+notebook": {
   "computePreferences": null,
   "dashboards": [],
   "environmentMetadata": {
    "base_environment": "",
    "environment_version": "3"
   },
   "inputWidgetPreferences": null,
   "language": "python",
   "notebookMetadata": {
    "mostRecentlyExecutedCommandWithImplicitDF": {
     "commandId": 4813605330370950,
     "dataframes": [
      "_sqldf"
     ]
    },
    "pythonIndentUnit": 4
   },
   "notebookName": "09-ingest_race_file_inc_load",
   "widgets": {
    "p_data_source": {
     "currentValue": "test_inc",
     "nuid": "87c584a3-5f8a-4316-8c74-77824df7e98c",
     "typedWidgetInfo": {
      "autoCreated": false,
      "defaultValue": "",
      "label": null,
      "name": "p_data_source",
      "options": {
       "widgetDisplayType": "Text",
       "validationRegex": null
      },
      "parameterDataType": "String"
     },
     "widgetInfo": {
      "widgetType": "text",
      "defaultValue": "",
      "label": null,
      "name": "p_data_source",
      "options": {
       "widgetType": "text",
       "autoCreated": null,
       "validationRegex": null
      }
     }
    },
    "p_file_date": {
     "currentValue": "2021-04-18",
     "nuid": "dde5ff47-2686-40be-9e7f-dffc9ee747fd",
     "typedWidgetInfo": {
      "autoCreated": false,
      "defaultValue": "",
      "label": null,
      "name": "p_file_date",
      "options": {
       "widgetDisplayType": "Text",
       "validationRegex": null
      },
      "parameterDataType": "String"
     },
     "widgetInfo": {
      "widgetType": "text",
      "defaultValue": "",
      "label": null,
      "name": "p_file_date",
      "options": {
       "widgetType": "text",
       "autoCreated": null,
       "validationRegex": null
      }
     }
    }
   }
  },
  "language_info": {
   "name": "python"
  }
 },
 "nbformat": 4,
 "nbformat_minor": 0
}
