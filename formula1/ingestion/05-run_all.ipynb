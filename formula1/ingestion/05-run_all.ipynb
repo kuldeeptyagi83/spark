{
 "cells": [
  {
   "cell_type": "code",
   "execution_count": 0,
   "metadata": {
    "application/vnd.databricks.v1+cell": {
     "cellMetadata": {
      "byteLimit": 2048000,
      "rowLimit": 10000
     },
     "inputWidgets": {},
     "nuid": "9f79d608-4946-4a9f-97c5-41ed073f0bac",
     "showTitle": false,
     "tableResultSettingsMap": {},
     "title": ""
    }
   },
   "outputs": [],
   "source": [
    "# dbutils.notebook.run(\"03-ingest_constructors\", 60)\n",
    "# dbutils.notebook.run(\"04-ingest_pitstops\", 60, {\"p_data_source\": dbutils.widgets.get(\"p_data_source\")}) # this does not works\n",
    "# result=dbutils.notebook.run(\"04-ingest_pitstops\", 60, {\"p_data_source\": \"custom_ingestion_date\"})\n",
    "dbutils.notebook.run(\"06-widget-demo\", 60, {\"p_data_source\": \"custom_ingestion_date\"})\n"
   ]
  },
  {
   "cell_type": "code",
   "execution_count": 0,
   "metadata": {
    "application/vnd.databricks.v1+cell": {
     "cellMetadata": {
      "byteLimit": 2048000,
      "rowLimit": 10000
     },
     "inputWidgets": {},
     "nuid": "bbccdc34-4740-4992-ba52-5506b61ccbfa",
     "showTitle": false,
     "tableResultSettingsMap": {},
     "title": ""
    }
   },
   "outputs": [],
   "source": [
    "if \"Success\" in result:\n",
    "  print(\"Success\")\n",
    "else:   \n",
    "  print(\"Failure\")\t"
   ]
  }
 ],
 "metadata": {
  "application/vnd.databricks.v1+notebook": {
   "computePreferences": null,
   "dashboards": [],
   "environmentMetadata": {
    "base_environment": "",
    "environment_version": "3"
   },
   "inputWidgetPreferences": null,
   "language": "python",
   "notebookMetadata": {
    "pythonIndentUnit": 4
   },
   "notebookName": "05-run_all",
   "widgets": {}
  },
  "language_info": {
   "name": "python"
  }
 },
 "nbformat": 4,
 "nbformat_minor": 0
}
