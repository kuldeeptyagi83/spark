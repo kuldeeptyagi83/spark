{
 "cells": [
  {
   "cell_type": "code",
   "execution_count": 0,
   "metadata": {
    "application/vnd.databricks.v1+cell": {
     "cellMetadata": {
      "byteLimit": 2048000,
      "rowLimit": 10000
     },
     "inputWidgets": {},
     "nuid": "6db978c2-b880-4ca2-9001-209492964ab9",
     "showTitle": false,
     "tableResultSettingsMap": {},
     "title": ""
    }
   },
   "outputs": [],
   "source": [
    "spark.sql(\"USE CATALOG dev_silver_f1_catalog\")\n",
    "spark.sql(\"USE SCHEMA dev_silver_f1_schema\")\n",
    "\n",
    "spark.sql(\"\"\"\n",
    "CREATE TABLE IF NOT EXISTS user (\n",
    "    user_id INT,\n",
    "    month STRING,\n",
    "    action STRING\n",
    ")\n",
    "USING DELTA\n",
    "PARTITIONED BY (month)\n",
    "LOCATION 'abfss://raw@databdls.dfs.core.windows.net/delta_sample'\n",
    "\"\"\")\n",
    "\n",
    "spark.sql(\"\"\"\n",
    "INSERT INTO user VALUES\n",
    "    (1, 'January', 'login'),\n",
    "    (2, 'February', 'logout'),\n",
    "    (3, 'March', 'comment'),\n",
    "    (4, 'April', 'like'),\n",
    "    (3, 'May', 'share'),\n",
    "    (6, 'June', 'upload'),\n",
    "    (3, 'July', 'update'),\n",
    "    (8, 'August', 'delete'),\n",
    "    (3, 'September', 'register'),\n",
    "    (10, 'October', 'purchase')\n",
    "\"\"\")"
   ]
  },
  {
   "cell_type": "code",
   "execution_count": 0,
   "metadata": {
    "application/vnd.databricks.v1+cell": {
     "cellMetadata": {
      "byteLimit": 2048000,
      "rowLimit": 10000
     },
     "inputWidgets": {},
     "nuid": "03eac11a-de98-4dca-9ade-2b398d00ec06",
     "showTitle": false,
     "tableResultSettingsMap": {},
     "title": ""
    }
   },
   "outputs": [],
   "source": [
    "spark.sql(\"USE CATALOG dev_silver_formula1_catalog\")\n",
    "spark.sql(\"USE SCHEMA processed_formula1_schema\")\n",
    "spark.sql(\"DELETE FROM user WHERE user_id=3\")"
   ]
  },
  {
   "cell_type": "code",
   "execution_count": 0,
   "metadata": {
    "application/vnd.databricks.v1+cell": {
     "cellMetadata": {
      "byteLimit": 2048000,
      "rowLimit": 10000
     },
     "inputWidgets": {},
     "nuid": "ea2a26ef-32ff-4b19-b98e-289df82813c2",
     "showTitle": false,
     "tableResultSettingsMap": {
      "0": {
       "dataGridStateBlob": "{\"version\":1,\"tableState\":{\"columnPinning\":{\"left\":[\"#row_number#\"],\"right\":[]},\"columnSizing\":{\"timestamp\":271},\"columnVisibility\":{}},\"settings\":{\"columns\":{}},\"syncTimestamp\":1757982967654}",
       "filterBlob": null,
       "queryPlanFiltersBlob": null,
       "tableResultIndex": 0
      }
     },
     "title": ""
    }
   },
   "outputs": [],
   "source": [
    "# Time travel: see history of the 'user' Delta table\n",
    "display(spark.sql(\"DESCRIBE HISTORY user\"))"
   ]
  },
  {
   "cell_type": "code",
   "execution_count": 0,
   "metadata": {
    "application/vnd.databricks.v1+cell": {
     "cellMetadata": {
      "byteLimit": 2048000,
      "rowLimit": 10000
     },
     "inputWidgets": {},
     "nuid": "cdc6a4b2-ad46-465e-8280-af81324e1afd",
     "showTitle": false,
     "tableResultSettingsMap": {},
     "title": ""
    }
   },
   "outputs": [],
   "source": [
    "# using veriosn to see history\n",
    "display(spark.read.format(\"delta\").option(\"versionAsOf\", 1).table(\"user\"))\n",
    "# display(spark.read.format(\"delta\").option(\"versionAsOf\", 2).table(\"user\"))"
   ]
  },
  {
   "cell_type": "code",
   "execution_count": 0,
   "metadata": {
    "application/vnd.databricks.v1+cell": {
     "cellMetadata": {
      "byteLimit": 2048000,
      "rowLimit": 10000
     },
     "inputWidgets": {},
     "nuid": "7a08213f-a7fa-4e07-a82e-29e68f3c2f05",
     "showTitle": false,
     "tableResultSettingsMap": {},
     "title": ""
    }
   },
   "outputs": [],
   "source": [
    "# Using timestamp for history\n",
    "display(spark.read.format(\"delta\").option(\"timestampAsOf\", \"2025-09-15T23:22:59.000+00:00\").table(\"user\"))"
   ]
  },
  {
   "cell_type": "code",
   "execution_count": 0,
   "metadata": {
    "application/vnd.databricks.v1+cell": {
     "cellMetadata": {
      "byteLimit": 2048000,
      "rowLimit": 10000
     },
     "inputWidgets": {},
     "nuid": "da24da50-7555-4b60-b40b-2093c64043b9",
     "showTitle": false,
     "tableResultSettingsMap": {},
     "title": ""
    }
   },
   "outputs": [],
   "source": [
    "spark.sql(\"RESTORE TABLE user TO VERSION AS OF 1\")"
   ]
  },
  {
   "cell_type": "code",
   "execution_count": 0,
   "metadata": {
    "application/vnd.databricks.v1+cell": {
     "cellMetadata": {
      "byteLimit": 2048000,
      "rowLimit": 10000
     },
     "inputWidgets": {},
     "nuid": "7f64725d-163a-4a01-b9b6-61d8fd0f04d4",
     "showTitle": false,
     "tableResultSettingsMap": {},
     "title": ""
    }
   },
   "outputs": [],
   "source": [
    "display(spark.sql(\"select * from user\"))\n"
   ]
  },
  {
   "cell_type": "code",
   "execution_count": 0,
   "metadata": {
    "application/vnd.databricks.v1+cell": {
     "cellMetadata": {
      "byteLimit": 2048000,
      "rowLimit": 10000
     },
     "inputWidgets": {},
     "nuid": "7515e785-671c-4b4b-88d8-f2386f12bc5b",
     "showTitle": false,
     "tableResultSettingsMap": {},
     "title": ""
    }
   },
   "outputs": [],
   "source": [
    "display(spark.conf.get(\"spark.databricks.delta.lastCommitVersionInSession\"))\n",
    "try:\n",
    "    display(spark.conf.get(\"spark.databricks.delta.checkpointInterval\"))\n",
    "except Exception:\n",
    "    pass\n",
    "try:\n",
    "    display(spark.conf.get(\"spark.databricks.delta.logRetentionDuration\"))  # default 30 days\n",
    "except Exception:\n",
    "    pass\n",
    "try:\n",
    "    display(spark.conf.get(\"spark.databricks.delta.deletedFileRetentionDuration\")) # default 7 days\n",
    "except Exception:\n",
    "    pass"
   ]
  },
  {
   "cell_type": "code",
   "execution_count": 0,
   "metadata": {
    "application/vnd.databricks.v1+cell": {
     "cellMetadata": {
      "byteLimit": 2048000,
      "rowLimit": 10000
     },
     "inputWidgets": {},
     "nuid": "b0576639-c476-4410-8efa-062b22123002",
     "showTitle": false,
     "tableResultSettingsMap": {},
     "title": ""
    }
   },
   "outputs": [],
   "source": [
    "# spark.conf.set(\"spark.databricks.delta.retentionDurationCheck.enabled\", \"false\") # CONFIG_NOT_AVAILABLE\n",
    "# spark.conf.set(\"spark.delta.retentionDurationCheck.enabled\", \"false\") # CONFIG_NOT_AVAILABLE\n",
    "\n",
    "spark.sql(\"VACUUM user RETAIN 0 HOURS\")\n",
    "\n",
    "# To VACUUM a Delta table with zero-hour retention, you must set this configuration at the cluster level (in the cluster's advanced Spark config), not at runtime in your notebook. \n"
   ]
  },
  {
   "cell_type": "code",
   "execution_count": 0,
   "metadata": {
    "application/vnd.databricks.v1+cell": {
     "cellMetadata": {
      "byteLimit": 2048000,
      "rowLimit": 10000
     },
     "inputWidgets": {},
     "nuid": "c332dc0d-2bd0-4e3e-9a91-37b2868c5cbe",
     "showTitle": false,
     "tableResultSettingsMap": {},
     "title": ""
    }
   },
   "outputs": [],
   "source": [
    "# If you want to see what files would be deleted before running the vacuum:\n",
    "display(spark.sql(\"VACUUM user DRY RUN\"))"
   ]
  },
  {
   "cell_type": "code",
   "execution_count": 0,
   "metadata": {
    "application/vnd.databricks.v1+cell": {
     "cellMetadata": {
      "byteLimit": 2048000,
      "rowLimit": 10000
     },
     "inputWidgets": {},
     "nuid": "2e3abaa6-ef20-4412-8665-d6560181165e",
     "showTitle": false,
     "tableResultSettingsMap": {},
     "title": ""
    }
   },
   "outputs": [],
   "source": [
    "display(spark.read.format(\"delta\").option(\"versionAsOf\", 7).table(\"user\"))"
   ]
  },
  {
   "cell_type": "code",
   "execution_count": 0,
   "metadata": {
    "application/vnd.databricks.v1+cell": {
     "cellMetadata": {
      "byteLimit": 2048000,
      "implicitDf": true,
      "rowLimit": 10000
     },
     "inputWidgets": {},
     "nuid": "50e27d1e-fa4b-455f-88c5-66840aac32eb",
     "showTitle": false,
     "tableResultSettingsMap": {},
     "title": ""
    }
   },
   "outputs": [],
   "source": [
    "%sql\n",
    "delete from user where user_id in (8,2)"
   ]
  },
  {
   "cell_type": "code",
   "execution_count": 0,
   "metadata": {
    "application/vnd.databricks.v1+cell": {
     "cellMetadata": {
      "byteLimit": 2048000,
      "implicitDf": true,
      "rowLimit": 10000
     },
     "inputWidgets": {},
     "nuid": "0c2430c2-5e44-4ea8-9c8c-8c28f90eb975",
     "showTitle": false,
     "tableResultSettingsMap": {},
     "title": ""
    }
   },
   "outputs": [],
   "source": [
    "%sql\n",
    "merge into user as tgt\n",
    "using (select * from user version as of 8) as src\n",
    "on tgt.user_id = src.user_id\n",
    "when not matched then\n",
    "insert *"
   ]
  }
 ],
 "metadata": {
  "application/vnd.databricks.v1+notebook": {
   "computePreferences": {
    "hardware": {
     "accelerator": null,
     "gpuPoolId": null,
     "memory": null
    }
   },
   "dashboards": [],
   "environmentMetadata": {
    "base_environment": "",
    "environment_version": "3"
   },
   "inputWidgetPreferences": null,
   "language": "python",
   "notebookMetadata": {
    "mostRecentlyExecutedCommandWithImplicitDF": {
     "commandId": 4635584362109975,
     "dataframes": [
      "_sqldf"
     ]
    },
    "pythonIndentUnit": 4
   },
   "notebookName": "05-delta",
   "widgets": {}
  },
  "language_info": {
   "name": "python"
  }
 },
 "nbformat": 4,
 "nbformat_minor": 0
}
